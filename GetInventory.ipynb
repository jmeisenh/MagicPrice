{
 "cells": [
  {
   "cell_type": "markdown",
   "id": "14f0a17c",
   "metadata": {},
   "source": [
    "## Perform Daily Inventory and Price Data Download"
   ]
  },
  {
   "cell_type": "code",
   "execution_count": 2,
   "id": "cf6dd51d",
   "metadata": {},
   "outputs": [],
   "source": [
    "from selenium import webdriver\n",
    "import pandas as pd\n",
    "import time\n",
    "from selenium.webdriver.firefox.options import Options\n",
    "from selenium.webdriver.common.by import By\n",
    "from selenium.webdriver.support.ui import WebDriverWait\n",
    "from selenium.webdriver.support import expected_conditions as EC\n",
    "from selenium.webdriver.common.action_chains import ActionChains\n",
    "import glob\n",
    "import os.path\n",
    "import shutil\n",
    "import keyring\n",
    "from datetime import datetime"
   ]
  },
  {
   "cell_type": "code",
   "execution_count": 8,
   "id": "484a7ca5",
   "metadata": {},
   "outputs": [
    {
     "name": "stderr",
     "output_type": "stream",
     "text": [
      "C:\\Users\\jmeis\\AppData\\Local\\Temp\\ipykernel_9540\\481495847.py:47: DeprecationWarning: use driver.switch_to.default_content instead\n",
      "  driver.switch_to_default_content()\n"
     ]
    },
    {
     "data": {
      "text/plain": [
       "'C:\\\\Users\\\\jmeis\\\\Projects\\\\MagicPrice\\\\Exports\\\\2023-02-27.csv'"
      ]
     },
     "execution_count": 8,
     "metadata": {},
     "output_type": "execute_result"
    }
   ],
   "source": [
    "\n",
    "\n",
    "username = \"jmeisenh\"\n",
    "password = keyring.get_password('magic', 'jmeisenh')\n",
    "options = Options()\n",
    "options.binary_location = \"C:/Program Files/Mozilla Firefox/firefox.exe\"\n",
    "\n",
    "PATH = \"C:/Users/jmeis/Projects/MagicPrice/geckodriver.exe\"\n",
    "driver = webdriver.Firefox(executable_path=PATH, options = options)\n",
    "\n",
    "driver.get(\"https://deckbox.org/accounts/login?return_to=/sets/3285758\")\n",
    "driver.maximize_window()\n",
    "# Find username, wait and send username\n",
    "WebDriverWait(driver, 10).until(EC.element_to_be_clickable((By.ID, \"login\"))).send_keys(username)\n",
    "\n",
    "# find password input field and insert password\n",
    "WebDriverWait(driver, 10).until(EC.element_to_be_clickable((By.ID, \"password\"))).send_keys(password)\n",
    "\n",
    "# click login button\n",
    "WebDriverWait(driver, 10).until(EC.element_to_be_clickable((By.ID, \"submit_button\"))).click()\n",
    "#driver.find_element_by_id(\"submit_button\").click()\n",
    "time.sleep(2)\n",
    "a = ActionChains(driver)\n",
    "#activate tools hover menu\n",
    "m = driver.find_element_by_link_text(\"Tools\")\n",
    "a.move_to_element(m).perform()\n",
    "#click export\n",
    "n = driver.find_element_by_link_text(\"Export\")\n",
    "a.move_to_element(n).click().perform()\n",
    "time.sleep(1)\n",
    "\n",
    "# click on extra columns button to expand list\n",
    "driver.find_element_by_id(\"extra_columns_container\").click()\n",
    "time.sleep(1)\n",
    "driver.switch_to_default_content()\n",
    "# click on price\n",
    "driver.find_element_by_link_text(\"Price\").click()\n",
    "#click on rarity\n",
    "driver.find_element_by_link_text(\"Rarity\").click()\n",
    "# click on type\n",
    "driver.find_element_by_xpath(\"/html/body/div[12]/div[1]/ul/li[1]/a\").click()\n",
    "# click on cost\n",
    "driver.find_element_by_xpath(\"/html/body/div[12]/div[1]/ul/li[2]/a\").click()\n",
    "# done button\n",
    "driver.find_element_by_xpath(\"/html/body/div[12]/div[2]/div\").click()\n",
    "time.sleep(1)\n",
    "# finish export\n",
    "driver.find_element_by_css_selector(\"button.btn-primary:nth-child(7)\").click()\n",
    "# quit instance\n",
    "time.sleep(3)\n",
    "driver.quit()\n",
    "\n",
    "# identify new exported file\n",
    "src_path = r'C:\\Users\\jmeis\\Downloads'\n",
    "file_type = r'\\*csv'\n",
    "files = glob.glob(src_path + file_type)\n",
    "max_file = max(files, key=os.path.getctime)\n",
    "\n",
    "#move file to working directory\n",
    "file_name = os.path.basename(max_file)\n",
    "dst_path = r'C:\\Users\\jmeis\\Projects\\MagicPrice\\Exports'\n",
    "shutil.move(max_file, dst_path+ '\\\\' +datetime.today().strftime('%Y-%m-%d') + '.csv')\n",
    "\n",
    "\n",
    "\n",
    "\n",
    "\n",
    "\n",
    "\n",
    "\n"
   ]
  },
  {
   "cell_type": "markdown",
   "id": "4933d01f",
   "metadata": {},
   "source": [
    "## Convert File to Useable Format"
   ]
  },
  {
   "cell_type": "code",
   "execution_count": 69,
   "id": "48fb85ca",
   "metadata": {},
   "outputs": [
    {
     "name": "stderr",
     "output_type": "stream",
     "text": [
      "C:\\Users\\jmeis\\AppData\\Local\\Temp\\ipykernel_13812\\617386118.py:16: FutureWarning: The default value of regex will change from True to False in a future version.\n",
      "  df['Color'] = df['Color'].str.replace(i, '')\n",
      "C:\\Users\\jmeis\\AppData\\Local\\Temp\\ipykernel_13812\\617386118.py:56: FutureWarning: The default value of regex will change from True to False in a future version.\n",
      "  df['Color'] = df['Color'].str.replace(key, value)\n",
      "C:\\Users\\jmeis\\AppData\\Local\\Temp\\ipykernel_13812\\617386118.py:58: FutureWarning: The default value of regex will change from True to False in a future version.\n",
      "  df['Color'] = df['Color'].str.replace(r'^\\s*$', 'Colorless')\n"
     ]
    }
   ],
   "source": [
    "# Import Data\n",
    "importDir = r'C:\\Users\\jmeis\\Projects\\MagicPrice\\Exports' + '\\\\' + datetime.today().strftime('%Y-%m-%d') + '.csv'\n",
    "df = pd.read_csv(importDir)\n",
    "# Keep only usable columns\n",
    "df = df[['Count', 'Name', 'Edition', 'Card Number', 'Condition', 'Language', 'Foil', 'Type', 'Cost', 'Rarity', 'Price']]\n",
    "\n",
    "# Add Color Column\n",
    "#eliminate duplicates in Color Column\n",
    "df['Color'] = df['Cost'].astype('string')\n",
    "# fill nas with temporary value\n",
    "df['Color'] = df.Color.fillna('Z')\n",
    "df['Color'] = df.Color.apply(lambda x: \"\".join(sorted(set(x))))\n",
    "\n",
    "# Replace brackets, X , C, and phyrexian mana with space\n",
    "for i in ['[^A-Z]', 'X', 'P', 'C']:\n",
    "    df['Color'] = df['Color'].str.replace(i, '')\n",
    "\n",
    "#create color replacement dictionary\n",
    "\n",
    "colorDict = {\n",
    "    r'\\bB\\b' : 'Black',\n",
    "    r'\\bU\\b' : 'Blue', \n",
    "    r'\\bG\\b' : 'Green', \n",
    "    r'\\bR\\b' : 'Red',\n",
    "    r'\\bW\\b' : 'White',\n",
    "    r'\\b[BU]{2}\\b' : 'Dimir',\n",
    "    r'\\b[BG]{2}\\b' : 'Golgari',\n",
    "    r'\\b[BR]{2}\\b' : 'Rakdos',\n",
    "    r'\\b[BW]{2}\\b' : 'Orzhov',\n",
    "    r'\\b[UG]{2}\\b' : 'Simic',\n",
    "    r'\\b[UR]{2}\\b' : 'Izzit',\n",
    "    r'\\b[UW]{2}\\b' : 'Azorius',\n",
    "    r'\\b[GR]{2}\\b' : 'Gruul',\n",
    "    r'\\b[GW]{2}\\b' : 'Selesnya',\n",
    "    r'\\b[RW]{2}\\b' : 'Boros',\n",
    "    r'\\b[UGW]{3}\\b' : 'Bant',\n",
    "    r'\\b[WBR]{3}\\b' : 'Mardu',\n",
    "    r'\\b[UBR]{3}\\b' : 'Grixis',\n",
    "    r'\\b[BRG]{3}\\b' : 'Jund',\n",
    "    r'\\b[RGW]{3}\\b' : 'Naya',\n",
    "    r'\\b[WBG]{3}\\b' : 'Abzan',\n",
    "    r'\\b[URW]{3}\\b' : 'Jeskai',\n",
    "    r'\\b[BGU]{3}\\b' : 'Sultai',\n",
    "    r'\\b[GUR]{3}\\b' : 'Temur',\n",
    "    r'\\b[WUB]{3}\\b' : 'Esper',\n",
    "    r'\\b[WUBR]{4}\\b' : 'Yore-Tiller',\n",
    "    r'\\b[UBRG]{4}\\b' : 'Glint-Eye',\n",
    "    r'\\b[BRGW]{4}\\b' : 'Dune-Brood',\n",
    "    r'\\b[RGWU]{4}\\b' : 'Ink-Treader',\n",
    "    r'\\b[GWUB]{4}\\b' : 'Witch-Maw',\n",
    "    r'\\b[WUBRG]{5}\\b' : 'Dominion',\n",
    "    r'\\bZ\\b' : 'Colorless'\n",
    "    \n",
    "}\n",
    "for key, value in colorDict.items():\n",
    "    df['Color'] = df['Color'].str.replace(key, value)\n",
    "# all remaining empty cells will be colorless\n",
    "df['Color'] = df['Color'].str.replace(r'^\\s*$', 'Colorless')\n",
    "# Save file\n",
    "dst_path = r'C:\\Users\\jmeis\\Projects\\MagicPrice\\Exports'\n",
    "df.to_csv(dst_path + '\\\\' + 'Cleaned_'+ datetime.today().strftime('%Y-%m-%d') + 'csv', index = False)\n",
    "\n",
    "\n"
   ]
  },
  {
   "cell_type": "markdown",
   "id": "b4e0af4f",
   "metadata": {},
   "source": [
    "## Convert all old exports to useable format"
   ]
  },
  {
   "cell_type": "code",
   "execution_count": 75,
   "id": "0aafb4c3",
   "metadata": {
    "scrolled": true
   },
   "outputs": [
    {
     "name": "stdout",
     "output_type": "stream",
     "text": [
      "C:\\Users\\jmeis\\Projects\\MagicPrice\\Exports\\temp\\2023-02-01.csv\n"
     ]
    },
    {
     "name": "stderr",
     "output_type": "stream",
     "text": [
      "C:\\Users\\jmeis\\AppData\\Local\\Temp\\ipykernel_13812\\957531585.py:18: FutureWarning: The default value of regex will change from True to False in a future version.\n",
      "  df['Color'] = df['Color'].str.replace(j, '')\n",
      "C:\\Users\\jmeis\\AppData\\Local\\Temp\\ipykernel_13812\\957531585.py:58: FutureWarning: The default value of regex will change from True to False in a future version.\n",
      "  df['Color'] = df['Color'].str.replace(key, value)\n",
      "C:\\Users\\jmeis\\AppData\\Local\\Temp\\ipykernel_13812\\957531585.py:60: FutureWarning: The default value of regex will change from True to False in a future version.\n",
      "  df['Color'] = df['Color'].str.replace(r'^\\s*$', 'Colorless')\n",
      "C:\\Users\\jmeis\\AppData\\Local\\Temp\\ipykernel_13812\\957531585.py:18: FutureWarning: The default value of regex will change from True to False in a future version.\n",
      "  df['Color'] = df['Color'].str.replace(j, '')\n",
      "C:\\Users\\jmeis\\AppData\\Local\\Temp\\ipykernel_13812\\957531585.py:58: FutureWarning: The default value of regex will change from True to False in a future version.\n",
      "  df['Color'] = df['Color'].str.replace(key, value)\n"
     ]
    },
    {
     "name": "stdout",
     "output_type": "stream",
     "text": [
      "C:\\Users\\jmeis\\Projects\\MagicPrice\\Exports\\temp\\2023-02-03.csv\n"
     ]
    },
    {
     "name": "stderr",
     "output_type": "stream",
     "text": [
      "C:\\Users\\jmeis\\AppData\\Local\\Temp\\ipykernel_13812\\957531585.py:60: FutureWarning: The default value of regex will change from True to False in a future version.\n",
      "  df['Color'] = df['Color'].str.replace(r'^\\s*$', 'Colorless')\n",
      "C:\\Users\\jmeis\\AppData\\Local\\Temp\\ipykernel_13812\\957531585.py:18: FutureWarning: The default value of regex will change from True to False in a future version.\n",
      "  df['Color'] = df['Color'].str.replace(j, '')\n",
      "C:\\Users\\jmeis\\AppData\\Local\\Temp\\ipykernel_13812\\957531585.py:58: FutureWarning: The default value of regex will change from True to False in a future version.\n",
      "  df['Color'] = df['Color'].str.replace(key, value)\n"
     ]
    },
    {
     "name": "stdout",
     "output_type": "stream",
     "text": [
      "C:\\Users\\jmeis\\Projects\\MagicPrice\\Exports\\temp\\2023-02-08.csv\n"
     ]
    },
    {
     "name": "stderr",
     "output_type": "stream",
     "text": [
      "C:\\Users\\jmeis\\AppData\\Local\\Temp\\ipykernel_13812\\957531585.py:60: FutureWarning: The default value of regex will change from True to False in a future version.\n",
      "  df['Color'] = df['Color'].str.replace(r'^\\s*$', 'Colorless')\n",
      "C:\\Users\\jmeis\\AppData\\Local\\Temp\\ipykernel_13812\\957531585.py:18: FutureWarning: The default value of regex will change from True to False in a future version.\n",
      "  df['Color'] = df['Color'].str.replace(j, '')\n",
      "C:\\Users\\jmeis\\AppData\\Local\\Temp\\ipykernel_13812\\957531585.py:58: FutureWarning: The default value of regex will change from True to False in a future version.\n",
      "  df['Color'] = df['Color'].str.replace(key, value)\n"
     ]
    },
    {
     "name": "stdout",
     "output_type": "stream",
     "text": [
      "C:\\Users\\jmeis\\Projects\\MagicPrice\\Exports\\temp\\2023-02-10.csv\n"
     ]
    },
    {
     "name": "stderr",
     "output_type": "stream",
     "text": [
      "C:\\Users\\jmeis\\AppData\\Local\\Temp\\ipykernel_13812\\957531585.py:60: FutureWarning: The default value of regex will change from True to False in a future version.\n",
      "  df['Color'] = df['Color'].str.replace(r'^\\s*$', 'Colorless')\n",
      "C:\\Users\\jmeis\\AppData\\Local\\Temp\\ipykernel_13812\\957531585.py:18: FutureWarning: The default value of regex will change from True to False in a future version.\n",
      "  df['Color'] = df['Color'].str.replace(j, '')\n",
      "C:\\Users\\jmeis\\AppData\\Local\\Temp\\ipykernel_13812\\957531585.py:58: FutureWarning: The default value of regex will change from True to False in a future version.\n",
      "  df['Color'] = df['Color'].str.replace(key, value)\n"
     ]
    },
    {
     "name": "stdout",
     "output_type": "stream",
     "text": [
      "C:\\Users\\jmeis\\Projects\\MagicPrice\\Exports\\temp\\2023-02-11.csv\n"
     ]
    },
    {
     "name": "stderr",
     "output_type": "stream",
     "text": [
      "C:\\Users\\jmeis\\AppData\\Local\\Temp\\ipykernel_13812\\957531585.py:60: FutureWarning: The default value of regex will change from True to False in a future version.\n",
      "  df['Color'] = df['Color'].str.replace(r'^\\s*$', 'Colorless')\n",
      "C:\\Users\\jmeis\\AppData\\Local\\Temp\\ipykernel_13812\\957531585.py:18: FutureWarning: The default value of regex will change from True to False in a future version.\n",
      "  df['Color'] = df['Color'].str.replace(j, '')\n",
      "C:\\Users\\jmeis\\AppData\\Local\\Temp\\ipykernel_13812\\957531585.py:58: FutureWarning: The default value of regex will change from True to False in a future version.\n",
      "  df['Color'] = df['Color'].str.replace(key, value)\n"
     ]
    },
    {
     "name": "stdout",
     "output_type": "stream",
     "text": [
      "C:\\Users\\jmeis\\Projects\\MagicPrice\\Exports\\temp\\2023-02-12.csv\n"
     ]
    },
    {
     "name": "stderr",
     "output_type": "stream",
     "text": [
      "C:\\Users\\jmeis\\AppData\\Local\\Temp\\ipykernel_13812\\957531585.py:60: FutureWarning: The default value of regex will change from True to False in a future version.\n",
      "  df['Color'] = df['Color'].str.replace(r'^\\s*$', 'Colorless')\n",
      "C:\\Users\\jmeis\\AppData\\Local\\Temp\\ipykernel_13812\\957531585.py:18: FutureWarning: The default value of regex will change from True to False in a future version.\n",
      "  df['Color'] = df['Color'].str.replace(j, '')\n",
      "C:\\Users\\jmeis\\AppData\\Local\\Temp\\ipykernel_13812\\957531585.py:58: FutureWarning: The default value of regex will change from True to False in a future version.\n",
      "  df['Color'] = df['Color'].str.replace(key, value)\n"
     ]
    },
    {
     "name": "stdout",
     "output_type": "stream",
     "text": [
      "C:\\Users\\jmeis\\Projects\\MagicPrice\\Exports\\temp\\2023-02-13.csv\n"
     ]
    },
    {
     "name": "stderr",
     "output_type": "stream",
     "text": [
      "C:\\Users\\jmeis\\AppData\\Local\\Temp\\ipykernel_13812\\957531585.py:60: FutureWarning: The default value of regex will change from True to False in a future version.\n",
      "  df['Color'] = df['Color'].str.replace(r'^\\s*$', 'Colorless')\n",
      "C:\\Users\\jmeis\\AppData\\Local\\Temp\\ipykernel_13812\\957531585.py:18: FutureWarning: The default value of regex will change from True to False in a future version.\n",
      "  df['Color'] = df['Color'].str.replace(j, '')\n",
      "C:\\Users\\jmeis\\AppData\\Local\\Temp\\ipykernel_13812\\957531585.py:58: FutureWarning: The default value of regex will change from True to False in a future version.\n",
      "  df['Color'] = df['Color'].str.replace(key, value)\n"
     ]
    },
    {
     "name": "stdout",
     "output_type": "stream",
     "text": [
      "C:\\Users\\jmeis\\Projects\\MagicPrice\\Exports\\temp\\2023-02-14.csv\n"
     ]
    },
    {
     "name": "stderr",
     "output_type": "stream",
     "text": [
      "C:\\Users\\jmeis\\AppData\\Local\\Temp\\ipykernel_13812\\957531585.py:60: FutureWarning: The default value of regex will change from True to False in a future version.\n",
      "  df['Color'] = df['Color'].str.replace(r'^\\s*$', 'Colorless')\n",
      "C:\\Users\\jmeis\\AppData\\Local\\Temp\\ipykernel_13812\\957531585.py:18: FutureWarning: The default value of regex will change from True to False in a future version.\n",
      "  df['Color'] = df['Color'].str.replace(j, '')\n",
      "C:\\Users\\jmeis\\AppData\\Local\\Temp\\ipykernel_13812\\957531585.py:58: FutureWarning: The default value of regex will change from True to False in a future version.\n",
      "  df['Color'] = df['Color'].str.replace(key, value)\n"
     ]
    },
    {
     "name": "stdout",
     "output_type": "stream",
     "text": [
      "C:\\Users\\jmeis\\Projects\\MagicPrice\\Exports\\temp\\2023-02-16.csv\n"
     ]
    },
    {
     "name": "stderr",
     "output_type": "stream",
     "text": [
      "C:\\Users\\jmeis\\AppData\\Local\\Temp\\ipykernel_13812\\957531585.py:60: FutureWarning: The default value of regex will change from True to False in a future version.\n",
      "  df['Color'] = df['Color'].str.replace(r'^\\s*$', 'Colorless')\n",
      "C:\\Users\\jmeis\\AppData\\Local\\Temp\\ipykernel_13812\\957531585.py:18: FutureWarning: The default value of regex will change from True to False in a future version.\n",
      "  df['Color'] = df['Color'].str.replace(j, '')\n",
      "C:\\Users\\jmeis\\AppData\\Local\\Temp\\ipykernel_13812\\957531585.py:58: FutureWarning: The default value of regex will change from True to False in a future version.\n",
      "  df['Color'] = df['Color'].str.replace(key, value)\n"
     ]
    },
    {
     "name": "stdout",
     "output_type": "stream",
     "text": [
      "C:\\Users\\jmeis\\Projects\\MagicPrice\\Exports\\temp\\2023-02-17.csv\n"
     ]
    },
    {
     "name": "stderr",
     "output_type": "stream",
     "text": [
      "C:\\Users\\jmeis\\AppData\\Local\\Temp\\ipykernel_13812\\957531585.py:60: FutureWarning: The default value of regex will change from True to False in a future version.\n",
      "  df['Color'] = df['Color'].str.replace(r'^\\s*$', 'Colorless')\n",
      "C:\\Users\\jmeis\\AppData\\Local\\Temp\\ipykernel_13812\\957531585.py:18: FutureWarning: The default value of regex will change from True to False in a future version.\n",
      "  df['Color'] = df['Color'].str.replace(j, '')\n",
      "C:\\Users\\jmeis\\AppData\\Local\\Temp\\ipykernel_13812\\957531585.py:58: FutureWarning: The default value of regex will change from True to False in a future version.\n",
      "  df['Color'] = df['Color'].str.replace(key, value)\n"
     ]
    },
    {
     "name": "stdout",
     "output_type": "stream",
     "text": [
      "C:\\Users\\jmeis\\Projects\\MagicPrice\\Exports\\temp\\2023-02-18.csv\n"
     ]
    },
    {
     "name": "stderr",
     "output_type": "stream",
     "text": [
      "C:\\Users\\jmeis\\AppData\\Local\\Temp\\ipykernel_13812\\957531585.py:60: FutureWarning: The default value of regex will change from True to False in a future version.\n",
      "  df['Color'] = df['Color'].str.replace(r'^\\s*$', 'Colorless')\n",
      "C:\\Users\\jmeis\\AppData\\Local\\Temp\\ipykernel_13812\\957531585.py:18: FutureWarning: The default value of regex will change from True to False in a future version.\n",
      "  df['Color'] = df['Color'].str.replace(j, '')\n",
      "C:\\Users\\jmeis\\AppData\\Local\\Temp\\ipykernel_13812\\957531585.py:58: FutureWarning: The default value of regex will change from True to False in a future version.\n",
      "  df['Color'] = df['Color'].str.replace(key, value)\n"
     ]
    },
    {
     "name": "stdout",
     "output_type": "stream",
     "text": [
      "C:\\Users\\jmeis\\Projects\\MagicPrice\\Exports\\temp\\2023-02-19.csv\n"
     ]
    },
    {
     "name": "stderr",
     "output_type": "stream",
     "text": [
      "C:\\Users\\jmeis\\AppData\\Local\\Temp\\ipykernel_13812\\957531585.py:60: FutureWarning: The default value of regex will change from True to False in a future version.\n",
      "  df['Color'] = df['Color'].str.replace(r'^\\s*$', 'Colorless')\n",
      "C:\\Users\\jmeis\\AppData\\Local\\Temp\\ipykernel_13812\\957531585.py:18: FutureWarning: The default value of regex will change from True to False in a future version.\n",
      "  df['Color'] = df['Color'].str.replace(j, '')\n",
      "C:\\Users\\jmeis\\AppData\\Local\\Temp\\ipykernel_13812\\957531585.py:58: FutureWarning: The default value of regex will change from True to False in a future version.\n",
      "  df['Color'] = df['Color'].str.replace(key, value)\n"
     ]
    },
    {
     "name": "stdout",
     "output_type": "stream",
     "text": [
      "C:\\Users\\jmeis\\Projects\\MagicPrice\\Exports\\temp\\2023-02-21.csv\n"
     ]
    },
    {
     "name": "stderr",
     "output_type": "stream",
     "text": [
      "C:\\Users\\jmeis\\AppData\\Local\\Temp\\ipykernel_13812\\957531585.py:60: FutureWarning: The default value of regex will change from True to False in a future version.\n",
      "  df['Color'] = df['Color'].str.replace(r'^\\s*$', 'Colorless')\n",
      "C:\\Users\\jmeis\\AppData\\Local\\Temp\\ipykernel_13812\\957531585.py:18: FutureWarning: The default value of regex will change from True to False in a future version.\n",
      "  df['Color'] = df['Color'].str.replace(j, '')\n",
      "C:\\Users\\jmeis\\AppData\\Local\\Temp\\ipykernel_13812\\957531585.py:58: FutureWarning: The default value of regex will change from True to False in a future version.\n",
      "  df['Color'] = df['Color'].str.replace(key, value)\n"
     ]
    },
    {
     "name": "stdout",
     "output_type": "stream",
     "text": [
      "C:\\Users\\jmeis\\Projects\\MagicPrice\\Exports\\temp\\2023-02-22.csv\n"
     ]
    },
    {
     "name": "stderr",
     "output_type": "stream",
     "text": [
      "C:\\Users\\jmeis\\AppData\\Local\\Temp\\ipykernel_13812\\957531585.py:60: FutureWarning: The default value of regex will change from True to False in a future version.\n",
      "  df['Color'] = df['Color'].str.replace(r'^\\s*$', 'Colorless')\n",
      "C:\\Users\\jmeis\\AppData\\Local\\Temp\\ipykernel_13812\\957531585.py:18: FutureWarning: The default value of regex will change from True to False in a future version.\n",
      "  df['Color'] = df['Color'].str.replace(j, '')\n",
      "C:\\Users\\jmeis\\AppData\\Local\\Temp\\ipykernel_13812\\957531585.py:58: FutureWarning: The default value of regex will change from True to False in a future version.\n",
      "  df['Color'] = df['Color'].str.replace(key, value)\n"
     ]
    },
    {
     "name": "stdout",
     "output_type": "stream",
     "text": [
      "C:\\Users\\jmeis\\Projects\\MagicPrice\\Exports\\temp\\2023-02-23.csv\n"
     ]
    },
    {
     "name": "stderr",
     "output_type": "stream",
     "text": [
      "C:\\Users\\jmeis\\AppData\\Local\\Temp\\ipykernel_13812\\957531585.py:60: FutureWarning: The default value of regex will change from True to False in a future version.\n",
      "  df['Color'] = df['Color'].str.replace(r'^\\s*$', 'Colorless')\n",
      "C:\\Users\\jmeis\\AppData\\Local\\Temp\\ipykernel_13812\\957531585.py:18: FutureWarning: The default value of regex will change from True to False in a future version.\n",
      "  df['Color'] = df['Color'].str.replace(j, '')\n",
      "C:\\Users\\jmeis\\AppData\\Local\\Temp\\ipykernel_13812\\957531585.py:58: FutureWarning: The default value of regex will change from True to False in a future version.\n",
      "  df['Color'] = df['Color'].str.replace(key, value)\n"
     ]
    },
    {
     "name": "stdout",
     "output_type": "stream",
     "text": [
      "C:\\Users\\jmeis\\Projects\\MagicPrice\\Exports\\temp\\2023-02-27.csv\n"
     ]
    },
    {
     "name": "stderr",
     "output_type": "stream",
     "text": [
      "C:\\Users\\jmeis\\AppData\\Local\\Temp\\ipykernel_13812\\957531585.py:60: FutureWarning: The default value of regex will change from True to False in a future version.\n",
      "  df['Color'] = df['Color'].str.replace(r'^\\s*$', 'Colorless')\n",
      "C:\\Users\\jmeis\\AppData\\Local\\Temp\\ipykernel_13812\\957531585.py:18: FutureWarning: The default value of regex will change from True to False in a future version.\n",
      "  df['Color'] = df['Color'].str.replace(j, '')\n",
      "C:\\Users\\jmeis\\AppData\\Local\\Temp\\ipykernel_13812\\957531585.py:58: FutureWarning: The default value of regex will change from True to False in a future version.\n",
      "  df['Color'] = df['Color'].str.replace(key, value)\n"
     ]
    },
    {
     "name": "stdout",
     "output_type": "stream",
     "text": [
      "C:\\Users\\jmeis\\Projects\\MagicPrice\\Exports\\temp\\2023-02-28.csv\n"
     ]
    },
    {
     "name": "stderr",
     "output_type": "stream",
     "text": [
      "C:\\Users\\jmeis\\AppData\\Local\\Temp\\ipykernel_13812\\957531585.py:60: FutureWarning: The default value of regex will change from True to False in a future version.\n",
      "  df['Color'] = df['Color'].str.replace(r'^\\s*$', 'Colorless')\n",
      "C:\\Users\\jmeis\\AppData\\Local\\Temp\\ipykernel_13812\\957531585.py:18: FutureWarning: The default value of regex will change from True to False in a future version.\n",
      "  df['Color'] = df['Color'].str.replace(j, '')\n",
      "C:\\Users\\jmeis\\AppData\\Local\\Temp\\ipykernel_13812\\957531585.py:58: FutureWarning: The default value of regex will change from True to False in a future version.\n",
      "  df['Color'] = df['Color'].str.replace(key, value)\n"
     ]
    },
    {
     "name": "stdout",
     "output_type": "stream",
     "text": [
      "C:\\Users\\jmeis\\Projects\\MagicPrice\\Exports\\temp\\2023-03-02.csv\n"
     ]
    },
    {
     "name": "stderr",
     "output_type": "stream",
     "text": [
      "C:\\Users\\jmeis\\AppData\\Local\\Temp\\ipykernel_13812\\957531585.py:60: FutureWarning: The default value of regex will change from True to False in a future version.\n",
      "  df['Color'] = df['Color'].str.replace(r'^\\s*$', 'Colorless')\n",
      "C:\\Users\\jmeis\\AppData\\Local\\Temp\\ipykernel_13812\\957531585.py:18: FutureWarning: The default value of regex will change from True to False in a future version.\n",
      "  df['Color'] = df['Color'].str.replace(j, '')\n",
      "C:\\Users\\jmeis\\AppData\\Local\\Temp\\ipykernel_13812\\957531585.py:58: FutureWarning: The default value of regex will change from True to False in a future version.\n",
      "  df['Color'] = df['Color'].str.replace(key, value)\n"
     ]
    },
    {
     "name": "stdout",
     "output_type": "stream",
     "text": [
      "C:\\Users\\jmeis\\Projects\\MagicPrice\\Exports\\temp\\2023-03-03.csv\n"
     ]
    },
    {
     "name": "stderr",
     "output_type": "stream",
     "text": [
      "C:\\Users\\jmeis\\AppData\\Local\\Temp\\ipykernel_13812\\957531585.py:60: FutureWarning: The default value of regex will change from True to False in a future version.\n",
      "  df['Color'] = df['Color'].str.replace(r'^\\s*$', 'Colorless')\n",
      "C:\\Users\\jmeis\\AppData\\Local\\Temp\\ipykernel_13812\\957531585.py:18: FutureWarning: The default value of regex will change from True to False in a future version.\n",
      "  df['Color'] = df['Color'].str.replace(j, '')\n",
      "C:\\Users\\jmeis\\AppData\\Local\\Temp\\ipykernel_13812\\957531585.py:58: FutureWarning: The default value of regex will change from True to False in a future version.\n",
      "  df['Color'] = df['Color'].str.replace(key, value)\n"
     ]
    },
    {
     "name": "stdout",
     "output_type": "stream",
     "text": [
      "C:\\Users\\jmeis\\Projects\\MagicPrice\\Exports\\temp\\2023-03-04.csv\n"
     ]
    },
    {
     "name": "stderr",
     "output_type": "stream",
     "text": [
      "C:\\Users\\jmeis\\AppData\\Local\\Temp\\ipykernel_13812\\957531585.py:60: FutureWarning: The default value of regex will change from True to False in a future version.\n",
      "  df['Color'] = df['Color'].str.replace(r'^\\s*$', 'Colorless')\n",
      "C:\\Users\\jmeis\\AppData\\Local\\Temp\\ipykernel_13812\\957531585.py:18: FutureWarning: The default value of regex will change from True to False in a future version.\n",
      "  df['Color'] = df['Color'].str.replace(j, '')\n",
      "C:\\Users\\jmeis\\AppData\\Local\\Temp\\ipykernel_13812\\957531585.py:58: FutureWarning: The default value of regex will change from True to False in a future version.\n",
      "  df['Color'] = df['Color'].str.replace(key, value)\n"
     ]
    },
    {
     "name": "stdout",
     "output_type": "stream",
     "text": [
      "C:\\Users\\jmeis\\Projects\\MagicPrice\\Exports\\temp\\2023-03-05.csv\n"
     ]
    },
    {
     "name": "stderr",
     "output_type": "stream",
     "text": [
      "C:\\Users\\jmeis\\AppData\\Local\\Temp\\ipykernel_13812\\957531585.py:60: FutureWarning: The default value of regex will change from True to False in a future version.\n",
      "  df['Color'] = df['Color'].str.replace(r'^\\s*$', 'Colorless')\n",
      "C:\\Users\\jmeis\\AppData\\Local\\Temp\\ipykernel_13812\\957531585.py:18: FutureWarning: The default value of regex will change from True to False in a future version.\n",
      "  df['Color'] = df['Color'].str.replace(j, '')\n",
      "C:\\Users\\jmeis\\AppData\\Local\\Temp\\ipykernel_13812\\957531585.py:58: FutureWarning: The default value of regex will change from True to False in a future version.\n",
      "  df['Color'] = df['Color'].str.replace(key, value)\n"
     ]
    },
    {
     "name": "stdout",
     "output_type": "stream",
     "text": [
      "C:\\Users\\jmeis\\Projects\\MagicPrice\\Exports\\temp\\2023-03-07.csv\n"
     ]
    },
    {
     "name": "stderr",
     "output_type": "stream",
     "text": [
      "C:\\Users\\jmeis\\AppData\\Local\\Temp\\ipykernel_13812\\957531585.py:60: FutureWarning: The default value of regex will change from True to False in a future version.\n",
      "  df['Color'] = df['Color'].str.replace(r'^\\s*$', 'Colorless')\n",
      "C:\\Users\\jmeis\\AppData\\Local\\Temp\\ipykernel_13812\\957531585.py:18: FutureWarning: The default value of regex will change from True to False in a future version.\n",
      "  df['Color'] = df['Color'].str.replace(j, '')\n",
      "C:\\Users\\jmeis\\AppData\\Local\\Temp\\ipykernel_13812\\957531585.py:58: FutureWarning: The default value of regex will change from True to False in a future version.\n",
      "  df['Color'] = df['Color'].str.replace(key, value)\n"
     ]
    },
    {
     "name": "stdout",
     "output_type": "stream",
     "text": [
      "C:\\Users\\jmeis\\Projects\\MagicPrice\\Exports\\temp\\2023-03-08.csv\n"
     ]
    },
    {
     "name": "stderr",
     "output_type": "stream",
     "text": [
      "C:\\Users\\jmeis\\AppData\\Local\\Temp\\ipykernel_13812\\957531585.py:60: FutureWarning: The default value of regex will change from True to False in a future version.\n",
      "  df['Color'] = df['Color'].str.replace(r'^\\s*$', 'Colorless')\n"
     ]
    }
   ],
   "source": [
    "directory = r'C:\\Users\\jmeis\\Projects\\MagicPrice\\Exports\\temp'\n",
    "for i in os.listdir(directory):\n",
    "        # Import Data\n",
    "    print(directory + '\\\\' + i)\n",
    "    df = pd.read_csv(directory + '\\\\' + i)\n",
    "    # Keep only usable columns\n",
    "    df = df[['Count', 'Name', 'Edition', 'Card Number', 'Condition', 'Language', 'Foil', 'Type', 'Cost', 'Rarity', 'Price']]\n",
    "\n",
    "    # Add Color Column\n",
    "    #eliminate duplicates in Color Column\n",
    "    df['Color'] = df['Cost'].astype('string')\n",
    "    # fill nas with temporary value\n",
    "    df['Color'] = df.Color.fillna('Z')\n",
    "    df['Color'] = df.Color.apply(lambda x: \"\".join(sorted(set(x))))\n",
    "\n",
    "    # Replace brackets, X , C, and phyrexian mana with space\n",
    "    for j in ['[^A-Z]', 'X', 'P', 'C']:\n",
    "        df['Color'] = df['Color'].str.replace(j, '')\n",
    "\n",
    "    #create color replacement dictionary\n",
    "\n",
    "    colorDict = {\n",
    "        r'\\bB\\b' : 'Black',\n",
    "        r'\\bU\\b' : 'Blue', \n",
    "        r'\\bG\\b' : 'Green', \n",
    "        r'\\bR\\b' : 'Red',\n",
    "        r'\\bW\\b' : 'White',\n",
    "        r'\\b[BU]{2}\\b' : 'Dimir',\n",
    "        r'\\b[BG]{2}\\b' : 'Golgari',\n",
    "        r'\\b[BR]{2}\\b' : 'Rakdos',\n",
    "        r'\\b[BW]{2}\\b' : 'Orzhov',\n",
    "        r'\\b[UG]{2}\\b' : 'Simic',\n",
    "        r'\\b[UR]{2}\\b' : 'Izzit',\n",
    "        r'\\b[UW]{2}\\b' : 'Azorius',\n",
    "        r'\\b[GR]{2}\\b' : 'Gruul',\n",
    "        r'\\b[GW]{2}\\b' : 'Selesnya',\n",
    "        r'\\b[RW]{2}\\b' : 'Boros',\n",
    "        r'\\b[UGW]{3}\\b' : 'Bant',\n",
    "        r'\\b[WBR]{3}\\b' : 'Mardu',\n",
    "        r'\\b[UBR]{3}\\b' : 'Grixis',\n",
    "        r'\\b[BRG]{3}\\b' : 'Jund',\n",
    "        r'\\b[RGW]{3}\\b' : 'Naya',\n",
    "        r'\\b[WBG]{3}\\b' : 'Abzan',\n",
    "        r'\\b[URW]{3}\\b' : 'Jeskai',\n",
    "        r'\\b[BGU]{3}\\b' : 'Sultai',\n",
    "        r'\\b[GUR]{3}\\b' : 'Temur',\n",
    "        r'\\b[WUB]{3}\\b' : 'Esper',\n",
    "        r'\\b[WUBR]{4}\\b' : 'Yore-Tiller',\n",
    "        r'\\b[UBRG]{4}\\b' : 'Glint-Eye',\n",
    "        r'\\b[BRGW]{4}\\b' : 'Dune-Brood',\n",
    "        r'\\b[RGWU]{4}\\b' : 'Ink-Treader',\n",
    "        r'\\b[GWUB]{4}\\b' : 'Witch-Maw',\n",
    "        r'\\b[WUBRG]{5}\\b' : 'Dominion',\n",
    "        r'\\bZ\\b' : 'Colorless'\n",
    "\n",
    "    }\n",
    "    for key, value in colorDict.items():\n",
    "        df['Color'] = df['Color'].str.replace(key, value)\n",
    "    # all remaining empty cells will be colorless\n",
    "    df['Color'] = df['Color'].str.replace(r'^\\s*$', 'Colorless')\n",
    "    # Save file\n",
    "    dst_path = r'C:\\Users\\jmeis\\Projects\\MagicPrice\\Exports'\n",
    "    df.to_csv(dst_path + '\\\\' + 'Cleaned_' + i  , index = False)\n",
    "\n",
    "\n"
   ]
  },
  {
   "cell_type": "markdown",
   "id": "c8cda87a",
   "metadata": {},
   "source": [
    "## Create Current long format card and price listing"
   ]
  },
  {
   "cell_type": "code",
   "execution_count": 166,
   "id": "e4e9debd",
   "metadata": {
    "scrolled": true
   },
   "outputs": [
    {
     "ename": "FileNotFoundError",
     "evalue": "[Errno 2] No such file or directory: 'C:\\\\Users\\\\jmeis\\\\Projects\\\\MagicPrice\\\\Exports\\\\Cleaned_2023-03-11.csv'",
     "output_type": "error",
     "traceback": [
      "\u001b[1;31m---------------------------------------------------------------------------\u001b[0m",
      "\u001b[1;31mFileNotFoundError\u001b[0m                         Traceback (most recent call last)",
      "\u001b[1;32m~\\AppData\\Local\\Temp\\ipykernel_13812\\525935566.py\u001b[0m in \u001b[0;36m<module>\u001b[1;34m\u001b[0m\n\u001b[0;32m      1\u001b[0m \u001b[0mdst_path\u001b[0m \u001b[1;33m=\u001b[0m \u001b[1;34mr'C:\\Users\\jmeis\\Projects\\MagicPrice\\Exports'\u001b[0m\u001b[1;33m\u001b[0m\u001b[1;33m\u001b[0m\u001b[0m\n\u001b[1;32m----> 2\u001b[1;33m \u001b[0mdf\u001b[0m \u001b[1;33m=\u001b[0m \u001b[0mpd\u001b[0m\u001b[1;33m.\u001b[0m\u001b[0mread_csv\u001b[0m\u001b[1;33m(\u001b[0m\u001b[0mdst_path\u001b[0m \u001b[1;33m+\u001b[0m \u001b[1;34m'\\\\'\u001b[0m \u001b[1;33m+\u001b[0m \u001b[1;34m'Cleaned_'\u001b[0m\u001b[1;33m+\u001b[0m \u001b[0mdatetime\u001b[0m\u001b[1;33m.\u001b[0m\u001b[0mtoday\u001b[0m\u001b[1;33m(\u001b[0m\u001b[1;33m)\u001b[0m\u001b[1;33m.\u001b[0m\u001b[0mstrftime\u001b[0m\u001b[1;33m(\u001b[0m\u001b[1;34m'%Y-%m-%d'\u001b[0m\u001b[1;33m)\u001b[0m \u001b[1;33m+\u001b[0m \u001b[1;34m'.csv'\u001b[0m\u001b[1;33m)\u001b[0m\u001b[1;33m\u001b[0m\u001b[1;33m\u001b[0m\u001b[0m\n\u001b[0m\u001b[0;32m      3\u001b[0m \u001b[0mdirectory\u001b[0m \u001b[1;33m=\u001b[0m \u001b[1;34mr'C:\\Users\\jmeis\\Projects\\MagicPrice\\Exports\\Temp'\u001b[0m\u001b[1;33m\u001b[0m\u001b[1;33m\u001b[0m\u001b[0m\n\u001b[0;32m      4\u001b[0m \u001b[1;32mfor\u001b[0m \u001b[0mi\u001b[0m \u001b[1;32min\u001b[0m \u001b[0mos\u001b[0m\u001b[1;33m.\u001b[0m\u001b[0mlistdir\u001b[0m\u001b[1;33m(\u001b[0m\u001b[0mdirectory\u001b[0m\u001b[1;33m)\u001b[0m\u001b[1;33m:\u001b[0m\u001b[1;33m\u001b[0m\u001b[1;33m\u001b[0m\u001b[0m\n\u001b[0;32m      5\u001b[0m     \u001b[0moldDF\u001b[0m \u001b[1;33m=\u001b[0m \u001b[0mpd\u001b[0m\u001b[1;33m.\u001b[0m\u001b[0mread_csv\u001b[0m\u001b[1;33m(\u001b[0m\u001b[0mdirectory\u001b[0m \u001b[1;33m+\u001b[0m \u001b[1;34m'\\\\'\u001b[0m \u001b[1;33m+\u001b[0m \u001b[0mi\u001b[0m\u001b[1;33m)\u001b[0m\u001b[1;33m\u001b[0m\u001b[1;33m\u001b[0m\u001b[0m\n",
      "\u001b[1;32m~\\anaconda3\\lib\\site-packages\\pandas\\util\\_decorators.py\u001b[0m in \u001b[0;36mwrapper\u001b[1;34m(*args, **kwargs)\u001b[0m\n\u001b[0;32m    309\u001b[0m                     \u001b[0mstacklevel\u001b[0m\u001b[1;33m=\u001b[0m\u001b[0mstacklevel\u001b[0m\u001b[1;33m,\u001b[0m\u001b[1;33m\u001b[0m\u001b[1;33m\u001b[0m\u001b[0m\n\u001b[0;32m    310\u001b[0m                 )\n\u001b[1;32m--> 311\u001b[1;33m             \u001b[1;32mreturn\u001b[0m \u001b[0mfunc\u001b[0m\u001b[1;33m(\u001b[0m\u001b[1;33m*\u001b[0m\u001b[0margs\u001b[0m\u001b[1;33m,\u001b[0m \u001b[1;33m**\u001b[0m\u001b[0mkwargs\u001b[0m\u001b[1;33m)\u001b[0m\u001b[1;33m\u001b[0m\u001b[1;33m\u001b[0m\u001b[0m\n\u001b[0m\u001b[0;32m    312\u001b[0m \u001b[1;33m\u001b[0m\u001b[0m\n\u001b[0;32m    313\u001b[0m         \u001b[1;32mreturn\u001b[0m \u001b[0mwrapper\u001b[0m\u001b[1;33m\u001b[0m\u001b[1;33m\u001b[0m\u001b[0m\n",
      "\u001b[1;32m~\\anaconda3\\lib\\site-packages\\pandas\\io\\parsers\\readers.py\u001b[0m in \u001b[0;36mread_csv\u001b[1;34m(filepath_or_buffer, sep, delimiter, header, names, index_col, usecols, squeeze, prefix, mangle_dupe_cols, dtype, engine, converters, true_values, false_values, skipinitialspace, skiprows, skipfooter, nrows, na_values, keep_default_na, na_filter, verbose, skip_blank_lines, parse_dates, infer_datetime_format, keep_date_col, date_parser, dayfirst, cache_dates, iterator, chunksize, compression, thousands, decimal, lineterminator, quotechar, quoting, doublequote, escapechar, comment, encoding, encoding_errors, dialect, error_bad_lines, warn_bad_lines, on_bad_lines, delim_whitespace, low_memory, memory_map, float_precision, storage_options)\u001b[0m\n\u001b[0;32m    676\u001b[0m     \u001b[0mkwds\u001b[0m\u001b[1;33m.\u001b[0m\u001b[0mupdate\u001b[0m\u001b[1;33m(\u001b[0m\u001b[0mkwds_defaults\u001b[0m\u001b[1;33m)\u001b[0m\u001b[1;33m\u001b[0m\u001b[1;33m\u001b[0m\u001b[0m\n\u001b[0;32m    677\u001b[0m \u001b[1;33m\u001b[0m\u001b[0m\n\u001b[1;32m--> 678\u001b[1;33m     \u001b[1;32mreturn\u001b[0m \u001b[0m_read\u001b[0m\u001b[1;33m(\u001b[0m\u001b[0mfilepath_or_buffer\u001b[0m\u001b[1;33m,\u001b[0m \u001b[0mkwds\u001b[0m\u001b[1;33m)\u001b[0m\u001b[1;33m\u001b[0m\u001b[1;33m\u001b[0m\u001b[0m\n\u001b[0m\u001b[0;32m    679\u001b[0m \u001b[1;33m\u001b[0m\u001b[0m\n\u001b[0;32m    680\u001b[0m \u001b[1;33m\u001b[0m\u001b[0m\n",
      "\u001b[1;32m~\\anaconda3\\lib\\site-packages\\pandas\\io\\parsers\\readers.py\u001b[0m in \u001b[0;36m_read\u001b[1;34m(filepath_or_buffer, kwds)\u001b[0m\n\u001b[0;32m    573\u001b[0m \u001b[1;33m\u001b[0m\u001b[0m\n\u001b[0;32m    574\u001b[0m     \u001b[1;31m# Create the parser.\u001b[0m\u001b[1;33m\u001b[0m\u001b[1;33m\u001b[0m\u001b[0m\n\u001b[1;32m--> 575\u001b[1;33m     \u001b[0mparser\u001b[0m \u001b[1;33m=\u001b[0m \u001b[0mTextFileReader\u001b[0m\u001b[1;33m(\u001b[0m\u001b[0mfilepath_or_buffer\u001b[0m\u001b[1;33m,\u001b[0m \u001b[1;33m**\u001b[0m\u001b[0mkwds\u001b[0m\u001b[1;33m)\u001b[0m\u001b[1;33m\u001b[0m\u001b[1;33m\u001b[0m\u001b[0m\n\u001b[0m\u001b[0;32m    576\u001b[0m \u001b[1;33m\u001b[0m\u001b[0m\n\u001b[0;32m    577\u001b[0m     \u001b[1;32mif\u001b[0m \u001b[0mchunksize\u001b[0m \u001b[1;32mor\u001b[0m \u001b[0miterator\u001b[0m\u001b[1;33m:\u001b[0m\u001b[1;33m\u001b[0m\u001b[1;33m\u001b[0m\u001b[0m\n",
      "\u001b[1;32m~\\anaconda3\\lib\\site-packages\\pandas\\io\\parsers\\readers.py\u001b[0m in \u001b[0;36m__init__\u001b[1;34m(self, f, engine, **kwds)\u001b[0m\n\u001b[0;32m    930\u001b[0m \u001b[1;33m\u001b[0m\u001b[0m\n\u001b[0;32m    931\u001b[0m         \u001b[0mself\u001b[0m\u001b[1;33m.\u001b[0m\u001b[0mhandles\u001b[0m\u001b[1;33m:\u001b[0m \u001b[0mIOHandles\u001b[0m \u001b[1;33m|\u001b[0m \u001b[1;32mNone\u001b[0m \u001b[1;33m=\u001b[0m \u001b[1;32mNone\u001b[0m\u001b[1;33m\u001b[0m\u001b[1;33m\u001b[0m\u001b[0m\n\u001b[1;32m--> 932\u001b[1;33m         \u001b[0mself\u001b[0m\u001b[1;33m.\u001b[0m\u001b[0m_engine\u001b[0m \u001b[1;33m=\u001b[0m \u001b[0mself\u001b[0m\u001b[1;33m.\u001b[0m\u001b[0m_make_engine\u001b[0m\u001b[1;33m(\u001b[0m\u001b[0mf\u001b[0m\u001b[1;33m,\u001b[0m \u001b[0mself\u001b[0m\u001b[1;33m.\u001b[0m\u001b[0mengine\u001b[0m\u001b[1;33m)\u001b[0m\u001b[1;33m\u001b[0m\u001b[1;33m\u001b[0m\u001b[0m\n\u001b[0m\u001b[0;32m    933\u001b[0m \u001b[1;33m\u001b[0m\u001b[0m\n\u001b[0;32m    934\u001b[0m     \u001b[1;32mdef\u001b[0m \u001b[0mclose\u001b[0m\u001b[1;33m(\u001b[0m\u001b[0mself\u001b[0m\u001b[1;33m)\u001b[0m\u001b[1;33m:\u001b[0m\u001b[1;33m\u001b[0m\u001b[1;33m\u001b[0m\u001b[0m\n",
      "\u001b[1;32m~\\anaconda3\\lib\\site-packages\\pandas\\io\\parsers\\readers.py\u001b[0m in \u001b[0;36m_make_engine\u001b[1;34m(self, f, engine)\u001b[0m\n\u001b[0;32m   1214\u001b[0m             \u001b[1;31m# \"Union[str, PathLike[str], ReadCsvBuffer[bytes], ReadCsvBuffer[str]]\"\u001b[0m\u001b[1;33m\u001b[0m\u001b[1;33m\u001b[0m\u001b[0m\n\u001b[0;32m   1215\u001b[0m             \u001b[1;31m# , \"str\", \"bool\", \"Any\", \"Any\", \"Any\", \"Any\", \"Any\"\u001b[0m\u001b[1;33m\u001b[0m\u001b[1;33m\u001b[0m\u001b[0m\n\u001b[1;32m-> 1216\u001b[1;33m             self.handles = get_handle(  # type: ignore[call-overload]\n\u001b[0m\u001b[0;32m   1217\u001b[0m                 \u001b[0mf\u001b[0m\u001b[1;33m,\u001b[0m\u001b[1;33m\u001b[0m\u001b[1;33m\u001b[0m\u001b[0m\n\u001b[0;32m   1218\u001b[0m                 \u001b[0mmode\u001b[0m\u001b[1;33m,\u001b[0m\u001b[1;33m\u001b[0m\u001b[1;33m\u001b[0m\u001b[0m\n",
      "\u001b[1;32m~\\anaconda3\\lib\\site-packages\\pandas\\io\\common.py\u001b[0m in \u001b[0;36mget_handle\u001b[1;34m(path_or_buf, mode, encoding, compression, memory_map, is_text, errors, storage_options)\u001b[0m\n\u001b[0;32m    784\u001b[0m         \u001b[1;32mif\u001b[0m \u001b[0mioargs\u001b[0m\u001b[1;33m.\u001b[0m\u001b[0mencoding\u001b[0m \u001b[1;32mand\u001b[0m \u001b[1;34m\"b\"\u001b[0m \u001b[1;32mnot\u001b[0m \u001b[1;32min\u001b[0m \u001b[0mioargs\u001b[0m\u001b[1;33m.\u001b[0m\u001b[0mmode\u001b[0m\u001b[1;33m:\u001b[0m\u001b[1;33m\u001b[0m\u001b[1;33m\u001b[0m\u001b[0m\n\u001b[0;32m    785\u001b[0m             \u001b[1;31m# Encoding\u001b[0m\u001b[1;33m\u001b[0m\u001b[1;33m\u001b[0m\u001b[0m\n\u001b[1;32m--> 786\u001b[1;33m             handle = open(\n\u001b[0m\u001b[0;32m    787\u001b[0m                 \u001b[0mhandle\u001b[0m\u001b[1;33m,\u001b[0m\u001b[1;33m\u001b[0m\u001b[1;33m\u001b[0m\u001b[0m\n\u001b[0;32m    788\u001b[0m                 \u001b[0mioargs\u001b[0m\u001b[1;33m.\u001b[0m\u001b[0mmode\u001b[0m\u001b[1;33m,\u001b[0m\u001b[1;33m\u001b[0m\u001b[1;33m\u001b[0m\u001b[0m\n",
      "\u001b[1;31mFileNotFoundError\u001b[0m: [Errno 2] No such file or directory: 'C:\\\\Users\\\\jmeis\\\\Projects\\\\MagicPrice\\\\Exports\\\\Cleaned_2023-03-11.csv'"
     ]
    }
   ],
   "source": [
    "dst_path = r'C:\\Users\\jmeis\\Projects\\MagicPrice\\Exports'\n",
    "df = pd.read_csv(dst_path + '\\\\' + 'Cleaned_'+ datetime.today().strftime('%Y-%m-%d') + '.csv')\n",
    "directory = r'C:\\Users\\jmeis\\Projects\\MagicPrice\\Exports\\Temp'\n",
    "for i in os.listdir(directory):\n",
    "    oldDF = pd.read_csv(directory + '\\\\' + i)\n",
    "    mergeDF = pd.merge(df, oldDF, how = 'left', on = ['Name', 'Edition', 'Card Number', 'Condition', 'Language', 'Foil'], suffixes=('', '_remove'))\n",
    "    mergeDF.rename(columns = {'Count_remove' : i.replace('Cleaned_', '').replace('.csv', '')}, inplace = True)\n",
    "    mergeDF.rename(columns = {'Price_remove' : i.replace('Cleaned_', '').replace('.csv', '')}, inplace = True)\n",
    "    mergeDF.drop([j for j in mergeDF.columns if 'remove' in j],axis=1, inplace=True)\n",
    "    df = mergeDF\n",
    "df = df[['Count', 'Name', 'Edition', 'Card Number', 'Condition', 'Language',\n",
    "       'Foil', 'Type', 'Cost', 'Rarity', 'Color', '2022-12-22',\n",
    "       '2022-12-23', '2022-12-24', '2022-12-25', '2022-12-26', '2022-12-27',\n",
    "       '2022-12-28', '2022-12-29', '2022-12-30', '2022-12-31', '2023-01-01',\n",
    "       '2023-01-02', '2023-01-03', '2023-01-04', '2023-01-19', '2023-01-20',\n",
    "       '2023-01-21', '2023-01-23', '2023-01-24', '2023-01-25', '2023-01-26',\n",
    "       '2023-01-27', '2023-01-28', '2023-01-29', '2023-01-30', '2023-02-01',\n",
    "       '2023-02-03', '2023-02-08', '2023-02-10', '2023-02-11', '2023-02-12',\n",
    "       '2023-02-13', '2023-02-14', '2023-02-16', '2023-02-17', '2023-02-18',\n",
    "       '2023-02-19', '2023-02-21', '2023-02-22', '2023-02-23', '2023-02-27',\n",
    "       '2023-02-28', '2023-03-02', '2023-03-03', '2023-03-04', '2023-03-05',\n",
    "       '2023-03-07', '2023-03-08', '2023-03-09', '2023-03-10','Price']]\n",
    "df.rename(columns = {'Price': datetime.today().strftime('%Y-%m-%d')}, inplace = True)\n",
    "\n",
    "df.to_csv(dst_path + '\\\\' + 'AllCardsWide.csv', index = False)\n",
    "pd.melt(df, id_vars=list(df.columns)[0:11] , value_vars=list(df.columns)[11:], \n",
    "                     var_name= 'Date', value_name='Price', ignore_index=False).sort_values(['Name', 'Date']).to_csv(dst_path + '\\\\' + 'AllCardsLong.csv', index = False)    \n",
    "    \n",
    "    "
   ]
  },
  {
   "cell_type": "markdown",
   "id": "03cc6d32",
   "metadata": {},
   "source": [
    "## Convert previous code to scheduled task script"
   ]
  },
  {
   "cell_type": "code",
   "execution_count": 179,
   "id": "be83b9f0",
   "metadata": {},
   "outputs": [],
   "source": [
    "AllCardsWide =  pd.read_csv(dst_path + '\\\\' + 'AllCardsWide.csv')\n",
    "# The following line will not be necesarry in script (df is already defined)\n",
    "df = pd.read_csv(dst_path + '\\\\' + 'Cleaned_' + datetime.today().strftime('%Y-%m-%d') + '.csv')\n",
    "# merge dfs\n",
    "mergeDF = pd.merge(AllCardsWide, df, how = 'left', on = ['Name', 'Edition', 'Card Number', 'Condition', 'Language', 'Foil'], suffixes=('', '_remove'))\n",
    "# drop original count column, and rename new count column\n",
    "mergeDF.drop('Count', axis = 1, inplace = True)\n",
    "# rename count_remove to count and move to first column\n",
    "mergeDF.rename(columns = {'Count_remove' : 'Count'}, inplace = True)\n",
    "mergeDF = mergeDF[['Count'] + [x for x in mergeDF.columns if x != 'Count']]\n",
    "# rename newest price column and move to end\n",
    "mergeDF.rename(columns = {'Price' : datetime.today().strftime('%Y-%m-%d')}, inplace = True)\n",
    "cols = list(mergeDF.columns.values) \n",
    "cols.pop(cols.index(datetime.today().strftime('%Y-%m-%d'))) \n",
    "mergeDF = mergeDF[cols+[datetime.today().strftime('%Y-%m-%d')]] \n",
    "# remove all right hand columns\n",
    "\n",
    "mergeDF.drop([j for j in mergeDF.columns if 'remove' in j],axis=1, inplace=True)\n",
    "#mergeDF.drop([j for j in mergeDF.columns if '.1' in j],axis=1, inplace=True)\n",
    "# save new wideformat csv\n",
    "mergeDF.to_csv(dst_path + '\\\\' + 'AllCardsWide.csv', index = False)\n",
    "# Save new long format csv\n",
    "pd.melt(mergeDF, id_vars=list(mergeDF.columns)[0:11] , value_vars=list(mergeDF.columns)[11:], \n",
    "                     var_name= 'Date', value_name='Price', ignore_index=False).sort_values(['Name', 'Date']).to_csv(dst_path + '\\\\' + 'AllCardsLong.csv', index = False) \n",
    "\n"
   ]
  },
  {
   "cell_type": "code",
   "execution_count": 180,
   "id": "2d1c19a4",
   "metadata": {},
   "outputs": [
    {
     "data": {
      "text/plain": [
       "['Count',\n",
       " 'Name',\n",
       " 'Edition',\n",
       " 'Card Number',\n",
       " 'Condition',\n",
       " 'Language',\n",
       " 'Foil',\n",
       " 'Type',\n",
       " 'Cost',\n",
       " 'Rarity',\n",
       " 'Color',\n",
       " '2022-12-22',\n",
       " '2022-12-23',\n",
       " '2022-12-24',\n",
       " '2022-12-25',\n",
       " '2022-12-26',\n",
       " '2022-12-27',\n",
       " '2022-12-28',\n",
       " '2022-12-29',\n",
       " '2022-12-30',\n",
       " '2022-12-31',\n",
       " '2023-01-01',\n",
       " '2023-01-02',\n",
       " '2023-01-03',\n",
       " '2023-01-04',\n",
       " '2023-01-19',\n",
       " '2023-01-20',\n",
       " '2023-01-21',\n",
       " '2023-01-23',\n",
       " '2023-01-24',\n",
       " '2023-01-25',\n",
       " '2023-01-26',\n",
       " '2023-01-27',\n",
       " '2023-01-28',\n",
       " '2023-01-29',\n",
       " '2023-01-30',\n",
       " '2023-02-01',\n",
       " '2023-02-03',\n",
       " '2023-02-08',\n",
       " '2023-02-10',\n",
       " '2023-02-11',\n",
       " '2023-02-12',\n",
       " '2023-02-13',\n",
       " '2023-02-14',\n",
       " '2023-02-16',\n",
       " '2023-02-17',\n",
       " '2023-02-18',\n",
       " '2023-02-19',\n",
       " '2023-02-21',\n",
       " '2023-02-22',\n",
       " '2023-02-23',\n",
       " '2023-02-27',\n",
       " '2023-02-28',\n",
       " '2023-03-02',\n",
       " '2023-03-03',\n",
       " '2023-03-04',\n",
       " '2023-03-05',\n",
       " '2023-03-07',\n",
       " '2023-03-08',\n",
       " '2023-03-09',\n",
       " '2023-03-10',\n",
       " '2023-03-11']"
      ]
     },
     "execution_count": 180,
     "metadata": {},
     "output_type": "execute_result"
    }
   ],
   "source": [
    "list(mergeDF.columns)"
   ]
  },
  {
   "cell_type": "code",
   "execution_count": 173,
   "id": "adeb712d",
   "metadata": {},
   "outputs": [
    {
     "data": {
      "text/html": [
       "<div>\n",
       "<style scoped>\n",
       "    .dataframe tbody tr th:only-of-type {\n",
       "        vertical-align: middle;\n",
       "    }\n",
       "\n",
       "    .dataframe tbody tr th {\n",
       "        vertical-align: top;\n",
       "    }\n",
       "\n",
       "    .dataframe thead th {\n",
       "        text-align: right;\n",
       "    }\n",
       "</style>\n",
       "<table border=\"1\" class=\"dataframe\">\n",
       "  <thead>\n",
       "    <tr style=\"text-align: right;\">\n",
       "      <th></th>\n",
       "      <th>Count</th>\n",
       "      <th>Name</th>\n",
       "      <th>Edition</th>\n",
       "      <th>Card Number</th>\n",
       "      <th>Condition</th>\n",
       "      <th>Language</th>\n",
       "      <th>Foil</th>\n",
       "      <th>Type</th>\n",
       "      <th>Cost</th>\n",
       "      <th>Rarity</th>\n",
       "      <th>...</th>\n",
       "      <th>2023-03-08</th>\n",
       "      <th>2023-03-09</th>\n",
       "      <th>Type_remove</th>\n",
       "      <th>Cost_remove</th>\n",
       "      <th>Rarity_remove</th>\n",
       "      <th>2023-03-11</th>\n",
       "      <th>2023-03-11</th>\n",
       "      <th>Color_remove</th>\n",
       "      <th>2023-03-11</th>\n",
       "      <th>2023-03-11</th>\n",
       "    </tr>\n",
       "  </thead>\n",
       "  <tbody>\n",
       "    <tr>\n",
       "      <th>0</th>\n",
       "      <td>2</td>\n",
       "      <td>A Little Chat</td>\n",
       "      <td>Streets of New Capenna</td>\n",
       "      <td>47</td>\n",
       "      <td>Near Mint</td>\n",
       "      <td>English</td>\n",
       "      <td>NaN</td>\n",
       "      <td>Instant</td>\n",
       "      <td>{1}{U}</td>\n",
       "      <td>Uncommon</td>\n",
       "      <td>...</td>\n",
       "      <td>$0.07</td>\n",
       "      <td>$0.07</td>\n",
       "      <td>Instant</td>\n",
       "      <td>{1}{U}</td>\n",
       "      <td>Uncommon</td>\n",
       "      <td>$0.07</td>\n",
       "      <td>$0.07</td>\n",
       "      <td>Blue</td>\n",
       "      <td>$0.07</td>\n",
       "      <td>$0.07</td>\n",
       "    </tr>\n",
       "    <tr>\n",
       "      <th>1</th>\n",
       "      <td>3</td>\n",
       "      <td>Abandon Reason</td>\n",
       "      <td>Eldritch Moon</td>\n",
       "      <td>115</td>\n",
       "      <td>Near Mint</td>\n",
       "      <td>English</td>\n",
       "      <td>NaN</td>\n",
       "      <td>Instant</td>\n",
       "      <td>{2}{R}</td>\n",
       "      <td>Uncommon</td>\n",
       "      <td>...</td>\n",
       "      <td>$0.14</td>\n",
       "      <td>$0.14</td>\n",
       "      <td>Instant</td>\n",
       "      <td>{2}{R}</td>\n",
       "      <td>Uncommon</td>\n",
       "      <td>$0.14</td>\n",
       "      <td>$0.14</td>\n",
       "      <td>Red</td>\n",
       "      <td>$0.14</td>\n",
       "      <td>$0.14</td>\n",
       "    </tr>\n",
       "    <tr>\n",
       "      <th>2</th>\n",
       "      <td>2</td>\n",
       "      <td>Abandoned Sarcophagus</td>\n",
       "      <td>Commander 2020</td>\n",
       "      <td>236</td>\n",
       "      <td>Near Mint</td>\n",
       "      <td>English</td>\n",
       "      <td>NaN</td>\n",
       "      <td>Artifact</td>\n",
       "      <td>{3}</td>\n",
       "      <td>Rare</td>\n",
       "      <td>...</td>\n",
       "      <td>$0.14</td>\n",
       "      <td>$0.14</td>\n",
       "      <td>Artifact</td>\n",
       "      <td>{3}</td>\n",
       "      <td>Rare</td>\n",
       "      <td>$0.14</td>\n",
       "      <td>$0.14</td>\n",
       "      <td>Colorless</td>\n",
       "      <td>$0.14</td>\n",
       "      <td>$0.14</td>\n",
       "    </tr>\n",
       "    <tr>\n",
       "      <th>3</th>\n",
       "      <td>1</td>\n",
       "      <td>Abattoir Ghoul</td>\n",
       "      <td>Innistrad</td>\n",
       "      <td>85</td>\n",
       "      <td>Near Mint</td>\n",
       "      <td>English</td>\n",
       "      <td>NaN</td>\n",
       "      <td>Creature - Zombie</td>\n",
       "      <td>{3}{B}</td>\n",
       "      <td>Uncommon</td>\n",
       "      <td>...</td>\n",
       "      <td>$0.09</td>\n",
       "      <td>$0.09</td>\n",
       "      <td>Creature - Zombie</td>\n",
       "      <td>{3}{B}</td>\n",
       "      <td>Uncommon</td>\n",
       "      <td>$0.09</td>\n",
       "      <td>$0.09</td>\n",
       "      <td>Black</td>\n",
       "      <td>$0.09</td>\n",
       "      <td>$0.09</td>\n",
       "    </tr>\n",
       "    <tr>\n",
       "      <th>4</th>\n",
       "      <td>1</td>\n",
       "      <td>Abdel Adrian, Gorion's Ward</td>\n",
       "      <td>Commander Legends: Battle for Baldur's Gate</td>\n",
       "      <td>375</td>\n",
       "      <td>Near Mint</td>\n",
       "      <td>English</td>\n",
       "      <td>foil</td>\n",
       "      <td>Legendary Creature - Human Warrior</td>\n",
       "      <td>{4}{W}</td>\n",
       "      <td>Uncommon</td>\n",
       "      <td>...</td>\n",
       "      <td>$0.22</td>\n",
       "      <td>$0.22</td>\n",
       "      <td>Legendary Creature - Human Warrior</td>\n",
       "      <td>{4}{W}</td>\n",
       "      <td>Uncommon</td>\n",
       "      <td>$0.22</td>\n",
       "      <td>$0.23</td>\n",
       "      <td>White</td>\n",
       "      <td>$0.22</td>\n",
       "      <td>$0.23</td>\n",
       "    </tr>\n",
       "    <tr>\n",
       "      <th>...</th>\n",
       "      <td>...</td>\n",
       "      <td>...</td>\n",
       "      <td>...</td>\n",
       "      <td>...</td>\n",
       "      <td>...</td>\n",
       "      <td>...</td>\n",
       "      <td>...</td>\n",
       "      <td>...</td>\n",
       "      <td>...</td>\n",
       "      <td>...</td>\n",
       "      <td>...</td>\n",
       "      <td>...</td>\n",
       "      <td>...</td>\n",
       "      <td>...</td>\n",
       "      <td>...</td>\n",
       "      <td>...</td>\n",
       "      <td>...</td>\n",
       "      <td>...</td>\n",
       "      <td>...</td>\n",
       "      <td>...</td>\n",
       "      <td>...</td>\n",
       "    </tr>\n",
       "    <tr>\n",
       "      <th>16173</th>\n",
       "      <td>1</td>\n",
       "      <td>Zulaport Cutthroat</td>\n",
       "      <td>Commander Legends: Battle for Baldur's Gate</td>\n",
       "      <td>775</td>\n",
       "      <td>Near Mint</td>\n",
       "      <td>English</td>\n",
       "      <td>NaN</td>\n",
       "      <td>Creature - Human Rogue Ally</td>\n",
       "      <td>{1}{B}</td>\n",
       "      <td>Uncommon</td>\n",
       "      <td>...</td>\n",
       "      <td>$0.62</td>\n",
       "      <td>$0.57</td>\n",
       "      <td>Creature - Human Rogue Ally</td>\n",
       "      <td>{1}{B}</td>\n",
       "      <td>Uncommon</td>\n",
       "      <td>$0.56</td>\n",
       "      <td>$0.59</td>\n",
       "      <td>Black</td>\n",
       "      <td>$0.56</td>\n",
       "      <td>$0.59</td>\n",
       "    </tr>\n",
       "    <tr>\n",
       "      <th>16174</th>\n",
       "      <td>1</td>\n",
       "      <td>Zulaport Cutthroat</td>\n",
       "      <td>Battle for Zendikar</td>\n",
       "      <td>126</td>\n",
       "      <td>Near Mint</td>\n",
       "      <td>English</td>\n",
       "      <td>foil</td>\n",
       "      <td>Creature - Human Rogue Ally</td>\n",
       "      <td>{1}{B}</td>\n",
       "      <td>Uncommon</td>\n",
       "      <td>...</td>\n",
       "      <td>$4.62</td>\n",
       "      <td>$4.62</td>\n",
       "      <td>Creature - Human Rogue Ally</td>\n",
       "      <td>{1}{B}</td>\n",
       "      <td>Uncommon</td>\n",
       "      <td>$4.67</td>\n",
       "      <td>$4.76</td>\n",
       "      <td>Black</td>\n",
       "      <td>$4.67</td>\n",
       "      <td>$4.76</td>\n",
       "    </tr>\n",
       "    <tr>\n",
       "      <th>16175</th>\n",
       "      <td>1</td>\n",
       "      <td>Zur the Enchanter</td>\n",
       "      <td>Coldsnap</td>\n",
       "      <td>135</td>\n",
       "      <td>Near Mint</td>\n",
       "      <td>English</td>\n",
       "      <td>NaN</td>\n",
       "      <td>Legendary Creature - Human Wizard</td>\n",
       "      <td>{1}{W}{U}{B}</td>\n",
       "      <td>Rare</td>\n",
       "      <td>...</td>\n",
       "      <td>$3.19</td>\n",
       "      <td>$3.19</td>\n",
       "      <td>Legendary Creature - Human Wizard</td>\n",
       "      <td>{1}{W}{U}{B}</td>\n",
       "      <td>Rare</td>\n",
       "      <td>$3.19</td>\n",
       "      <td>$3.13</td>\n",
       "      <td>Esper</td>\n",
       "      <td>$3.19</td>\n",
       "      <td>$3.13</td>\n",
       "    </tr>\n",
       "    <tr>\n",
       "      <th>16176</th>\n",
       "      <td>1</td>\n",
       "      <td>Zuran Orb</td>\n",
       "      <td>Ice Age</td>\n",
       "      <td>325</td>\n",
       "      <td>Near Mint</td>\n",
       "      <td>English</td>\n",
       "      <td>NaN</td>\n",
       "      <td>Artifact</td>\n",
       "      <td>{0}</td>\n",
       "      <td>Uncommon</td>\n",
       "      <td>...</td>\n",
       "      <td>$2.57</td>\n",
       "      <td>$2.62</td>\n",
       "      <td>Artifact</td>\n",
       "      <td>{0}</td>\n",
       "      <td>Uncommon</td>\n",
       "      <td>$2.62</td>\n",
       "      <td>$2.62</td>\n",
       "      <td>Colorless</td>\n",
       "      <td>$2.62</td>\n",
       "      <td>$2.62</td>\n",
       "    </tr>\n",
       "    <tr>\n",
       "      <th>16177</th>\n",
       "      <td>1</td>\n",
       "      <td>Zurzoth, Chaos Rider</td>\n",
       "      <td>Streets of New Capenna Commander</td>\n",
       "      <td>278</td>\n",
       "      <td>Near Mint</td>\n",
       "      <td>English</td>\n",
       "      <td>NaN</td>\n",
       "      <td>Legendary Creature - Devil</td>\n",
       "      <td>{2}{R}</td>\n",
       "      <td>Rare</td>\n",
       "      <td>...</td>\n",
       "      <td>$0.23</td>\n",
       "      <td>$0.23</td>\n",
       "      <td>Legendary Creature - Devil</td>\n",
       "      <td>{2}{R}</td>\n",
       "      <td>Rare</td>\n",
       "      <td>$0.23</td>\n",
       "      <td>$0.23</td>\n",
       "      <td>Red</td>\n",
       "      <td>$0.23</td>\n",
       "      <td>$0.23</td>\n",
       "    </tr>\n",
       "  </tbody>\n",
       "</table>\n",
       "<p>16178 rows × 68 columns</p>\n",
       "</div>"
      ],
      "text/plain": [
       "       Count                         Name  \\\n",
       "0          2                A Little Chat   \n",
       "1          3               Abandon Reason   \n",
       "2          2        Abandoned Sarcophagus   \n",
       "3          1               Abattoir Ghoul   \n",
       "4          1  Abdel Adrian, Gorion's Ward   \n",
       "...      ...                          ...   \n",
       "16173      1           Zulaport Cutthroat   \n",
       "16174      1           Zulaport Cutthroat   \n",
       "16175      1            Zur the Enchanter   \n",
       "16176      1                    Zuran Orb   \n",
       "16177      1         Zurzoth, Chaos Rider   \n",
       "\n",
       "                                           Edition  Card Number  Condition  \\\n",
       "0                           Streets of New Capenna           47  Near Mint   \n",
       "1                                    Eldritch Moon          115  Near Mint   \n",
       "2                                   Commander 2020          236  Near Mint   \n",
       "3                                        Innistrad           85  Near Mint   \n",
       "4      Commander Legends: Battle for Baldur's Gate          375  Near Mint   \n",
       "...                                            ...          ...        ...   \n",
       "16173  Commander Legends: Battle for Baldur's Gate          775  Near Mint   \n",
       "16174                          Battle for Zendikar          126  Near Mint   \n",
       "16175                                     Coldsnap          135  Near Mint   \n",
       "16176                                      Ice Age          325  Near Mint   \n",
       "16177             Streets of New Capenna Commander          278  Near Mint   \n",
       "\n",
       "      Language  Foil                                Type          Cost  \\\n",
       "0      English   NaN                             Instant        {1}{U}   \n",
       "1      English   NaN                             Instant        {2}{R}   \n",
       "2      English   NaN                            Artifact           {3}   \n",
       "3      English   NaN                   Creature - Zombie        {3}{B}   \n",
       "4      English  foil  Legendary Creature - Human Warrior        {4}{W}   \n",
       "...        ...   ...                                 ...           ...   \n",
       "16173  English   NaN         Creature - Human Rogue Ally        {1}{B}   \n",
       "16174  English  foil         Creature - Human Rogue Ally        {1}{B}   \n",
       "16175  English   NaN   Legendary Creature - Human Wizard  {1}{W}{U}{B}   \n",
       "16176  English   NaN                            Artifact           {0}   \n",
       "16177  English   NaN          Legendary Creature - Devil        {2}{R}   \n",
       "\n",
       "         Rarity  ... 2023-03-08 2023-03-09  \\\n",
       "0      Uncommon  ...      $0.07      $0.07   \n",
       "1      Uncommon  ...      $0.14      $0.14   \n",
       "2          Rare  ...      $0.14      $0.14   \n",
       "3      Uncommon  ...      $0.09      $0.09   \n",
       "4      Uncommon  ...      $0.22      $0.22   \n",
       "...         ...  ...        ...        ...   \n",
       "16173  Uncommon  ...      $0.62      $0.57   \n",
       "16174  Uncommon  ...      $4.62      $4.62   \n",
       "16175      Rare  ...      $3.19      $3.19   \n",
       "16176  Uncommon  ...      $2.57      $2.62   \n",
       "16177      Rare  ...      $0.23      $0.23   \n",
       "\n",
       "                              Type_remove   Cost_remove Rarity_remove  \\\n",
       "0                                 Instant        {1}{U}      Uncommon   \n",
       "1                                 Instant        {2}{R}      Uncommon   \n",
       "2                                Artifact           {3}          Rare   \n",
       "3                       Creature - Zombie        {3}{B}      Uncommon   \n",
       "4      Legendary Creature - Human Warrior        {4}{W}      Uncommon   \n",
       "...                                   ...           ...           ...   \n",
       "16173         Creature - Human Rogue Ally        {1}{B}      Uncommon   \n",
       "16174         Creature - Human Rogue Ally        {1}{B}      Uncommon   \n",
       "16175   Legendary Creature - Human Wizard  {1}{W}{U}{B}          Rare   \n",
       "16176                            Artifact           {0}      Uncommon   \n",
       "16177          Legendary Creature - Devil        {2}{R}          Rare   \n",
       "\n",
       "      2023-03-11 2023-03-11 Color_remove 2023-03-11 2023-03-11  \n",
       "0          $0.07      $0.07         Blue      $0.07      $0.07  \n",
       "1          $0.14      $0.14          Red      $0.14      $0.14  \n",
       "2          $0.14      $0.14    Colorless      $0.14      $0.14  \n",
       "3          $0.09      $0.09        Black      $0.09      $0.09  \n",
       "4          $0.22      $0.23        White      $0.22      $0.23  \n",
       "...          ...        ...          ...        ...        ...  \n",
       "16173      $0.56      $0.59        Black      $0.56      $0.59  \n",
       "16174      $4.67      $4.76        Black      $4.67      $4.76  \n",
       "16175      $3.19      $3.13        Esper      $3.19      $3.13  \n",
       "16176      $2.62      $2.62    Colorless      $2.62      $2.62  \n",
       "16177      $0.23      $0.23          Red      $0.23      $0.23  \n",
       "\n",
       "[16178 rows x 68 columns]"
      ]
     },
     "execution_count": 173,
     "metadata": {},
     "output_type": "execute_result"
    }
   ],
   "source": [
    "mergeDF"
   ]
  },
  {
   "cell_type": "code",
   "execution_count": null,
   "id": "b0d35b29",
   "metadata": {},
   "outputs": [],
   "source": []
  }
 ],
 "metadata": {
  "kernelspec": {
   "display_name": "Python 3 (ipykernel)",
   "language": "python",
   "name": "python3"
  },
  "language_info": {
   "codemirror_mode": {
    "name": "ipython",
    "version": 3
   },
   "file_extension": ".py",
   "mimetype": "text/x-python",
   "name": "python",
   "nbconvert_exporter": "python",
   "pygments_lexer": "ipython3",
   "version": "3.9.13"
  }
 },
 "nbformat": 4,
 "nbformat_minor": 5
}
